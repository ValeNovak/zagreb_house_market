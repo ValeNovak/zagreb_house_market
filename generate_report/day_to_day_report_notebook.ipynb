{
 "cells": [
  {
   "cell_type": "code",
   "execution_count": 1,
   "metadata": {},
   "outputs": [],
   "source": [
    "import sys\n",
    "import os\n",
    "import pandas as pd\n",
    "from datetime import datetime\n",
    "\n",
    "from psycopg2.extras import RealDictCursor  \n",
    "\n",
    "sys.path.append(os.path.abspath(os.path.join(os.path.dirname(\"./\"), '..')))\n",
    "\n",
    "from func.my_library_function import dest_db\n",
    "\n",
    "cursor=dest_db(cursor_factory_param=RealDictCursor)\n"
   ]
  },
  {
   "cell_type": "code",
   "execution_count": 2,
   "metadata": {},
   "outputs": [],
   "source": [
    "data_storage = {}\n",
    "COUNT_OF_APARTMENTS_BY_AGENCIES=\"count_of_apartments_by_agencies\"\n",
    "COUNT_OF_APARTMENTS_BY_PRIVATE_SELLER = \"count_of_apartments_by_private_seller\"\n",
    "MEDIAN_PRICE_OF_APARTMENTS_BY_AGENCIES = \"median_price_of_apartment_by_agencies\"\n",
    "MEDIAN_PRICE_OF_APARTMENTS_BY_PRIVATE_SELLER = \"median_price_of_apartment_by_private_seller\"\n",
    "MEDIAN_PRICE_FOR_APARTMENTS_0_TO_40_M2_ZG = \"median_price_for_apartments_0_to_40_m2_zg\"\n",
    "MEDIAN_PRICE_FOR_APARTMENTS_40_TO_80_M2_ZG = \"median_price_for_apartments_40_to_80_m2_zg\"\n",
    "MEDIAN_PRICE_FOR_APARTMENTS_80_TO_120_M2_ZG = \"median_price_for_apartments_80_to_120_m2_zg\"\n",
    "MEDIAN_PRICE_FOR_APARTMENTS_120_TO_MORE_M2_ZG = \"median_price_for_apartments_120_to_more_m2_zg\"\n",
    "COUNT_OF_ENERGY_CLASS_A_PLUS = \"count_of_energy_class_a_plus\"\n",
    "COUNT_OF_ENERGY_CLASS_A = \"count_of_energy_class_a\"\n",
    "COUNT_OF_ENERGY_CLASS_B = \"count_of_energy_class_b\"\n",
    "COUNT_OF_ENERGY_CLASS_C = \"count_of_energy_class_c\"\n",
    "COUNT_OF_ENERGY_CLASS_D = \"count_of_energy_class_d\"\n",
    "COUNT_OF_ENERGY_CLASS_E = \"count_of_energy_class_e\"\n",
    "COUNT_OF_ENERGY_CLASS_F = \"count_of_energy_class_f\"\n",
    "COUNT_OF_ENERGY_CLASS_G = \"count_of_energy_class_g\"\n",
    "COUNT_OF_UPDATE_PRICE_PER_DAY = \"count_of_update_price_per_day\"\n",
    "COUNT_OF_UPDATE_PRICE_INCREASE_PER_DAY = \"count_of_update_price_increase_per_day\"\n",
    "COUNT_OF_UPDATE_PRICE_DECREASE_PER_DAY = \"count_of_update_price_decrease_per_day\"\n"
   ]
  },
  {
   "cell_type": "code",
   "execution_count": 3,
   "metadata": {},
   "outputs": [
    {
     "data": {
      "text/plain": [
       "{'count_of_apartments_by_agencies': 4832,\n",
       " 'median_price_of_apartment_by_agencies': 264978.0}"
      ]
     },
     "execution_count": 3,
     "metadata": {},
     "output_type": "execute_result"
    }
   ],
   "source": [
    "query_for_agencies=\"\"\"SELECT *\n",
    "FROM zagreb_app z\n",
    "WHERE NOT EXISTS\n",
    "(SELECT *\n",
    "FROM\n",
    "(SELECT * \n",
    "FROM zagreb_app\n",
    "where author not ilike '%nekretnine%' \n",
    "and author not ilike '%nekretnina%'\n",
    "and author not ilike '%d.o.o%' \n",
    "and author not ilike '%real%' \n",
    "and author not ilike '%Immobilien%' \n",
    "and author not ilike '%properties%'\n",
    "and author not ilike '%agencija%'\n",
    "and author not ilike '%projekt%'\n",
    "and author not ilike '%www%'\n",
    "and LEFT(author, 1) != UPPER(LEFT(author, 1))) as consumeri\n",
    "where consumeri.author = z.author) \n",
    "and author !~ '\\d+$' \n",
    "and author !~ '^[^A-Za-z0-9]'\n",
    "ORDER BY author\"\"\"\n",
    "\n",
    "cursor.execute(query_for_agencies)\n",
    "result_agency_set=cursor.fetchall()\n",
    "\n",
    "df_agency=pd.DataFrame(data=result_agency_set)\n",
    "\n",
    "data_storage[COUNT_OF_APARTMENTS_BY_AGENCIES] = int(df_agency['njuskalo_id'].count())\n",
    "data_storage[MEDIAN_PRICE_OF_APARTMENTS_BY_AGENCIES] = float(df_agency['Cijena'].median())\n",
    "\n",
    "\n",
    "data_storage\n",
    "\n",
    "\n",
    "\n"
   ]
  },
  {
   "cell_type": "code",
   "execution_count": 4,
   "metadata": {},
   "outputs": [
    {
     "data": {
      "text/plain": [
       "{'count_of_apartments_by_agencies': 4832,\n",
       " 'median_price_of_apartment_by_agencies': 264978.0,\n",
       " 'count_of_apartments_by_private_seller': 191,\n",
       " 'median_price_of_apartment_by_private_seller': 260000.0}"
      ]
     },
     "execution_count": 4,
     "metadata": {},
     "output_type": "execute_result"
    }
   ],
   "source": [
    "\n",
    "query_for_private_per= ''' SELECT * \n",
    "FROM zagreb_app\n",
    "WHERE author not ilike '%nekretnine%' \n",
    "and author not ilike '%nekretnina%'\n",
    "and author not ilike '%d.o.o%' \n",
    "and author not ilike '%real%' \n",
    "and author not ilike '%Immobilien%' \n",
    "and author not ilike '%properties%'\n",
    "and author not ilike '%agencija%'\n",
    "and author not ilike '%projekt%'\n",
    "and author not ilike '%www%'\n",
    "and LEFT(author, 1) != UPPER(LEFT(author, 1))'''\n",
    "\n",
    "cursor.execute(query_for_private_per)\n",
    "result_private_per_set=cursor.fetchall()\n",
    "\n",
    "df_private=pd.DataFrame(data=result_private_per_set)\n",
    "\n",
    "data_storage[COUNT_OF_APARTMENTS_BY_PRIVATE_SELLER] = int(df_private['njuskalo_id'].count())\n",
    "data_storage[MEDIAN_PRICE_OF_APARTMENTS_BY_PRIVATE_SELLER] = float(df_private['Cijena'].median())\n",
    "\n",
    "\n",
    "data_storage\n",
    "\n"
   ]
  },
  {
   "cell_type": "code",
   "execution_count": 5,
   "metadata": {},
   "outputs": [
    {
     "data": {
      "text/plain": [
       "{'count_of_apartments_by_agencies': 4832,\n",
       " 'median_price_of_apartment_by_agencies': 264978.0,\n",
       " 'count_of_apartments_by_private_seller': 191,\n",
       " 'median_price_of_apartment_by_private_seller': 260000.0,\n",
       " 'median_price_for_apartments_0_to_40_m2_zg': 126000.0,\n",
       " 'median_price_for_apartments_40_to_80_m2_zg': 219719.0,\n",
       " 'median_price_for_apartments_80_to_120_m2_zg': 330000.0,\n",
       " 'median_price_for_apartments_120_to_more_m2_zg': 499000.0,\n",
       " 'count_of_energy_class_a_plus': 377,\n",
       " 'count_of_energy_class_a': 511,\n",
       " 'count_of_energy_class_b': 286,\n",
       " 'count_of_energy_class_c': 305,\n",
       " 'count_of_energy_class_d': 72,\n",
       " 'count_of_energy_class_e': 22,\n",
       " 'count_of_energy_class_f': 9,\n",
       " 'count_of_energy_class_g': 4}"
      ]
     },
     "execution_count": 5,
     "metadata": {},
     "output_type": "execute_result"
    }
   ],
   "source": [
    "query_for_zagreb_apartmets = '''SELECT * FROM zagreb_app'''\n",
    "\n",
    "cursor.execute(query_for_zagreb_apartmets)\n",
    "result_zagreb_set = cursor.fetchall()\n",
    "\n",
    "df_zagreb = pd.DataFrame(data=result_zagreb_set)\n",
    "\n",
    "df_zagreb\n",
    "\n",
    "filtered_data_0_40 = df_zagreb[(df_zagreb['Stambena povrsina'] > 0) & (df_zagreb['Stambena povrsina'] < 40)]\n",
    "filtered_data_40_80 = df_zagreb[(df_zagreb['Stambena povrsina'] > 40) & (df_zagreb['Stambena povrsina'] < 80)]\n",
    "filtered_data_80_120 = df_zagreb[(df_zagreb['Stambena povrsina'] > 80) & (df_zagreb['Stambena povrsina'] < 120)]\n",
    "filtered_data_120_more = df_zagreb[(df_zagreb['Stambena povrsina'] > 120)]\n",
    "\n",
    "data_storage[MEDIAN_PRICE_FOR_APARTMENTS_0_TO_40_M2_ZG] = float(filtered_data_0_40['Cijena'].median())\n",
    "data_storage[MEDIAN_PRICE_FOR_APARTMENTS_40_TO_80_M2_ZG] = float(filtered_data_40_80['Cijena'].median())\n",
    "data_storage[MEDIAN_PRICE_FOR_APARTMENTS_80_TO_120_M2_ZG] = float(filtered_data_80_120['Cijena'].median())\n",
    "data_storage[MEDIAN_PRICE_FOR_APARTMENTS_120_TO_MORE_M2_ZG] = float(filtered_data_120_more['Cijena'].median())\n",
    "\n",
    "\n",
    "\n",
    "count_a_plus = df_zagreb['Energetski razred'].value_counts().get('A+', 0)\n",
    "count_a = df_zagreb['Energetski razred'].value_counts().get('A', 0)\n",
    "count_b = df_zagreb['Energetski razred'].value_counts().get('B', 0)\n",
    "count_c = df_zagreb['Energetski razred'].value_counts().get('C', 0)\n",
    "count_d = df_zagreb['Energetski razred'].value_counts().get('D', 0)\n",
    "count_e = df_zagreb['Energetski razred'].value_counts().get('E', 0)\n",
    "count_f = df_zagreb['Energetski razred'].value_counts().get('F', 0)\n",
    "count_g = df_zagreb['Energetski razred'].value_counts().get('G', 0)\n",
    "\n",
    "data_storage[COUNT_OF_ENERGY_CLASS_A_PLUS] = int(count_a_plus)\n",
    "data_storage[COUNT_OF_ENERGY_CLASS_A] = int(count_a)\n",
    "data_storage[COUNT_OF_ENERGY_CLASS_B] = int(count_b)\n",
    "data_storage[COUNT_OF_ENERGY_CLASS_C] = int(count_c)\n",
    "data_storage[COUNT_OF_ENERGY_CLASS_D] = int(count_d)\n",
    "data_storage[COUNT_OF_ENERGY_CLASS_E] = int(count_e)\n",
    "data_storage[COUNT_OF_ENERGY_CLASS_F] = int(count_f)\n",
    "data_storage[COUNT_OF_ENERGY_CLASS_G] = int(count_g)\n",
    "\n",
    "\n",
    "\n",
    "data_storage\n"
   ]
  },
  {
   "cell_type": "code",
   "execution_count": 8,
   "metadata": {},
   "outputs": [
    {
     "data": {
      "text/plain": [
       "{'count_of_apartments_by_agencies': 4832,\n",
       " 'median_price_of_apartment_by_agencies': 264978.0,\n",
       " 'count_of_apartments_by_private_seller': 191,\n",
       " 'median_price_of_apartment_by_private_seller': 260000.0,\n",
       " 'median_price_for_apartments_0_to_40_m2_zg': 126000.0,\n",
       " 'median_price_for_apartments_40_to_80_m2_zg': 219719.0,\n",
       " 'median_price_for_apartments_80_to_120_m2_zg': 330000.0,\n",
       " 'median_price_for_apartments_120_to_more_m2_zg': 499000.0,\n",
       " 'count_of_energy_class_a_plus': 377,\n",
       " 'count_of_energy_class_a': 511,\n",
       " 'count_of_energy_class_b': 286,\n",
       " 'count_of_energy_class_c': 305,\n",
       " 'count_of_energy_class_d': 72,\n",
       " 'count_of_energy_class_e': 22,\n",
       " 'count_of_energy_class_f': 9,\n",
       " 'count_of_energy_class_g': 4,\n",
       " 'count_of_update_price_per_day': 35,\n",
       " 'count_of_update_price_increase_per_day': 17,\n",
       " 'count_of_update_price_decrease_per_day': 18,\n",
       " 'date_of_reporting': '2025-04-16'}"
      ]
     },
     "execution_count": 8,
     "metadata": {},
     "output_type": "execute_result"
    }
   ],
   "source": [
    "cursor.execute('SELECT * FROM update_price')\n",
    "result_update_price_set = cursor.fetchall()\n",
    "df_update_price_zg = pd.DataFrame(data=result_update_price_set)\n",
    "\n",
    "if not df_update_price_zg.empty:\n",
    "    data_storage[COUNT_OF_UPDATE_PRICE_PER_DAY] = len(df_update_price_zg)\n",
    "\n",
    "    filtered_data_price_increase = df_update_price_zg[df_update_price_zg['old_price'] < df_update_price_zg['new_price']]\n",
    "    filtered_data_price_decrease = df_update_price_zg[df_update_price_zg['old_price'] > df_update_price_zg['new_price']]\n",
    "\n",
    "    data_storage[COUNT_OF_UPDATE_PRICE_INCREASE_PER_DAY] = int(filtered_data_price_increase['id'].count())\n",
    "    data_storage[COUNT_OF_UPDATE_PRICE_DECREASE_PER_DAY] = int(filtered_data_price_decrease['id'].count())\n",
    "else:\n",
    "    # If DataFrame is empty, set all counts to 0\n",
    "    data_storage[COUNT_OF_UPDATE_PRICE_PER_DAY] = 0\n",
    "    data_storage[COUNT_OF_UPDATE_PRICE_INCREASE_PER_DAY] = 0\n",
    "    data_storage[COUNT_OF_UPDATE_PRICE_DECREASE_PER_DAY] = 0\n",
    "\n",
    "\n",
    "data_storage['date_of_reporting'] = datetime.today().strftime('%Y-%m-%d')\n",
    "\n",
    "data_storage\n"
   ]
  },
  {
   "cell_type": "code",
   "execution_count": 7,
   "metadata": {},
   "outputs": [
    {
     "name": "stdout",
     "output_type": "stream",
     "text": [
      "Index(['id', 'njuskalo_id', 'author', 'old_price', 'new_price', 'date_of_up'], dtype='object')\n"
     ]
    }
   ],
   "source": [
    "print(df_update_price_zg.columns)"
   ]
  }
 ],
 "metadata": {
  "kernelspec": {
   "display_name": "valecode",
   "language": "python",
   "name": "python3"
  },
  "language_info": {
   "codemirror_mode": {
    "name": "ipython",
    "version": 3
   },
   "file_extension": ".py",
   "mimetype": "text/x-python",
   "name": "python",
   "nbconvert_exporter": "python",
   "pygments_lexer": "ipython3",
   "version": "3.10.16"
  }
 },
 "nbformat": 4,
 "nbformat_minor": 2
}
